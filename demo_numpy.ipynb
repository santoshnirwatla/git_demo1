{
 "cells": [
  {
   "cell_type": "markdown",
   "metadata": {},
   "source": [
    "import numpy as np\n",
    "a1=np.array([10,20,30,40])\n",
    "a2=np.array([50,20,70,40])\n",
    "\n",
    "L1=[10,20,30,40]\n",
    "L2=[50,60,70,80]\n",
    "\n",
    "a1,a2,L1,L2"
   ]
  },
  {
   "cell_type": "markdown",
   "metadata": {},
   "source": [
    "## Differences in between python list and numpy array"
   ]
  },
  {
   "cell_type": "markdown",
   "metadata": {},
   "source": [
    "# + operator"
   ]
  },
  {
   "cell_type": "code",
   "execution_count": 7,
   "metadata": {},
   "outputs": [
    {
     "data": {
      "text/plain": [
       "array([ 60,  40, 100,  80])"
      ]
     },
     "execution_count": 7,
     "metadata": {},
     "output_type": "execute_result"
    }
   ],
   "source": [
    "a1+a2   #adds Respective elements if dimensions are same"
   ]
  },
  {
   "cell_type": "code",
   "execution_count": 8,
   "metadata": {},
   "outputs": [
    {
     "data": {
      "text/plain": [
       "[10, 20, 30, 40, 50, 60, 70, 80]"
      ]
     },
     "execution_count": 8,
     "metadata": {},
     "output_type": "execute_result"
    }
   ],
   "source": [
    "L1+L2   #concatenate 2 lists"
   ]
  },
  {
   "cell_type": "code",
   "execution_count": 9,
   "metadata": {},
   "outputs": [
    {
     "data": {
      "text/plain": [
       "array([110, 120, 130, 140])"
      ]
     },
     "execution_count": 9,
     "metadata": {},
     "output_type": "execute_result"
    }
   ],
   "source": [
    "a1+100  #adds 100 in each element of array"
   ]
  },
  {
   "cell_type": "code",
   "execution_count": 10,
   "metadata": {},
   "outputs": [
    {
     "ename": "TypeError",
     "evalue": "can only concatenate list (not \"int\") to list",
     "output_type": "error",
     "traceback": [
      "\u001b[1;31m---------------------------------------------------------------------------\u001b[0m",
      "\u001b[1;31mTypeError\u001b[0m                                 Traceback (most recent call last)",
      "Cell \u001b[1;32mIn [10], line 1\u001b[0m\n\u001b[1;32m----> 1\u001b[0m \u001b[43mL1\u001b[49m\u001b[43m \u001b[49m\u001b[38;5;241;43m+\u001b[39;49m\u001b[43m \u001b[49m\u001b[38;5;241;43m100\u001b[39;49m\n",
      "\u001b[1;31mTypeError\u001b[0m: can only concatenate list (not \"int\") to list"
     ]
    }
   ],
   "source": [
    "L1 + 100  #Error: Data types should be same"
   ]
  },
  {
   "cell_type": "markdown",
   "metadata": {},
   "source": [
    "# * operator"
   ]
  },
  {
   "cell_type": "code",
   "execution_count": null,
   "metadata": {},
   "outputs": [],
   "source": [
    "a1*a2    #multiplies all the elements"
   ]
  },
  {
   "cell_type": "code",
   "execution_count": null,
   "metadata": {},
   "outputs": [],
   "source": [
    "L1*L2 #Replication: multiplier should be an integer"
   ]
  },
  {
   "cell_type": "code",
   "execution_count": null,
   "metadata": {},
   "outputs": [],
   "source": [
    "a1*2  #multiplies with 2 to all the elements of a1"
   ]
  },
  {
   "cell_type": "code",
   "execution_count": null,
   "metadata": {},
   "outputs": [],
   "source": [
    "L1*2  #Replicates list elements with 2"
   ]
  },
  {
   "cell_type": "code",
   "execution_count": null,
   "metadata": {},
   "outputs": [],
   "source": [
    "a1*3.5"
   ]
  },
  {
   "cell_type": "code",
   "execution_count": null,
   "metadata": {},
   "outputs": [],
   "source": [
    "L1*3.5 #multiplier should be an integer"
   ]
  },
  {
   "cell_type": "code",
   "execution_count": null,
   "metadata": {},
   "outputs": [],
   "source": [
    "a1**2 #squares the elements a1"
   ]
  },
  {
   "cell_type": "code",
   "execution_count": null,
   "metadata": {},
   "outputs": [],
   "source": [
    "L1**2 #Error"
   ]
  },
  {
   "cell_type": "markdown",
   "metadata": {},
   "source": [
    "# / operator"
   ]
  },
  {
   "cell_type": "code",
   "execution_count": null,
   "metadata": {},
   "outputs": [],
   "source": [
    "a1/2  #Divides each element of a1 by 2"
   ]
  },
  {
   "cell_type": "code",
   "execution_count": null,
   "metadata": {},
   "outputs": [],
   "source": [
    "L1/2"
   ]
  },
  {
   "cell_type": "code",
   "execution_count": null,
   "metadata": {},
   "outputs": [],
   "source": [
    "a1//2 #Integer Division"
   ]
  },
  {
   "cell_type": "markdown",
   "metadata": {},
   "source": [
    "# % operator"
   ]
  },
  {
   "cell_type": "code",
   "execution_count": null,
   "metadata": {},
   "outputs": [],
   "source": [
    "a1%3 "
   ]
  },
  {
   "cell_type": "code",
   "execution_count": null,
   "metadata": {},
   "outputs": [],
   "source": [
    "L1%3"
   ]
  },
  {
   "cell_type": "markdown",
   "metadata": {},
   "source": [
    "# - operator"
   ]
  },
  {
   "cell_type": "code",
   "execution_count": 14,
   "metadata": {},
   "outputs": [
    {
     "data": {
      "text/plain": [
       "array([40,  0, 40,  0])"
      ]
     },
     "execution_count": 14,
     "metadata": {},
     "output_type": "execute_result"
    }
   ],
   "source": [
    "a2-a1 #Substracts respective elements of the array"
   ]
  },
  {
   "cell_type": "code",
   "execution_count": 16,
   "metadata": {},
   "outputs": [
    {
     "ename": "TypeError",
     "evalue": "unsupported operand type(s) for -: 'list' and 'list'",
     "output_type": "error",
     "traceback": [
      "\u001b[1;31m---------------------------------------------------------------------------\u001b[0m",
      "\u001b[1;31mTypeError\u001b[0m                                 Traceback (most recent call last)",
      "Cell \u001b[1;32mIn [16], line 1\u001b[0m\n\u001b[1;32m----> 1\u001b[0m \u001b[43mL2\u001b[49m\u001b[38;5;241;43m-\u001b[39;49m\u001b[43mL1\u001b[49m\n",
      "\u001b[1;31mTypeError\u001b[0m: unsupported operand type(s) for -: 'list' and 'list'"
     ]
    }
   ],
   "source": [
    "L2-L1"
   ]
  },
  {
   "cell_type": "code",
   "execution_count": 17,
   "metadata": {},
   "outputs": [
    {
     "data": {
      "text/plain": [
       "array(['10', '11.8', 'Hi'], dtype='<U32')"
      ]
     },
     "execution_count": 17,
     "metadata": {},
     "output_type": "execute_result"
    }
   ],
   "source": [
    "a3=np.array([10,11.8,'Hi'])# It converts all elements into string(possible data type conversion)\n",
    "a3"
   ]
  },
  {
   "cell_type": "code",
   "execution_count": 18,
   "metadata": {},
   "outputs": [
    {
     "data": {
      "text/plain": [
       "(3, 3)"
      ]
     },
     "execution_count": 18,
     "metadata": {},
     "output_type": "execute_result"
    }
   ],
   "source": [
    "## 2-D array\n",
    "\n",
    "a2=np.array([[10,20,30],[40,50,60],[70,80,90]])\n",
    "\n",
    "a2.shape #Number of rows and colsy"
   ]
  },
  {
   "cell_type": "code",
   "execution_count": 19,
   "metadata": {},
   "outputs": [
    {
     "data": {
      "text/plain": [
       "9"
      ]
     },
     "execution_count": 19,
     "metadata": {},
     "output_type": "execute_result"
    }
   ],
   "source": [
    "a2.size # product of row * col/Total elements present in array"
   ]
  },
  {
   "cell_type": "code",
   "execution_count": 20,
   "metadata": {},
   "outputs": [
    {
     "data": {
      "text/plain": [
       "2"
      ]
     },
     "execution_count": 20,
     "metadata": {},
     "output_type": "execute_result"
    }
   ],
   "source": [
    "a2.ndim #number of dimensions"
   ]
  },
  {
   "cell_type": "code",
   "execution_count": 21,
   "metadata": {},
   "outputs": [
    {
     "data": {
      "text/plain": [
       "1"
      ]
     },
     "execution_count": 21,
     "metadata": {},
     "output_type": "execute_result"
    }
   ],
   "source": [
    "a1.ndim"
   ]
  },
  {
   "cell_type": "code",
   "execution_count": 22,
   "metadata": {},
   "outputs": [
    {
     "data": {
      "text/plain": [
       "dtype('int32')"
      ]
     },
     "execution_count": 22,
     "metadata": {},
     "output_type": "execute_result"
    }
   ],
   "source": [
    "a2.dtype #It returns data type of items in array"
   ]
  },
  {
   "cell_type": "code",
   "execution_count": 11,
   "metadata": {},
   "outputs": [
    {
     "data": {
      "text/plain": [
       "array([50., 20., 70., 40.])"
      ]
     },
     "execution_count": 11,
     "metadata": {},
     "output_type": "execute_result"
    }
   ],
   "source": [
    "a2.astype('float64') #It converts data type to a specified type"
   ]
  },
  {
   "cell_type": "code",
   "execution_count": 12,
   "metadata": {},
   "outputs": [
    {
     "data": {
      "text/plain": [
       "[50, 20, 70, 40]"
      ]
     },
     "execution_count": 12,
     "metadata": {},
     "output_type": "execute_result"
    }
   ],
   "source": [
    "a2.tolist() #Convert array to a Python list"
   ]
  },
  {
   "cell_type": "code",
   "execution_count": 13,
   "metadata": {},
   "outputs": [
    {
     "name": "stdout",
     "output_type": "stream",
     "text": [
      "class:  ndarray\n",
      "shape:  (4,)\n",
      "strides:  (4,)\n",
      "itemsize:  4\n",
      "aligned:  True\n",
      "contiguous:  True\n",
      "fortran:  True\n",
      "data pointer: 0x204f3488ef0\n",
      "byteorder:  little\n",
      "byteswap:  False\n",
      "type: int32\n"
     ]
    }
   ],
   "source": [
    "np.info(a2)#It returns an information about array"
   ]
  },
  {
   "cell_type": "code",
   "execution_count": 2,
   "metadata": {},
   "outputs": [
    {
     "data": {
      "text/plain": [
       "array([0., 0., 0., 0., 0., 0., 0., 0., 0., 0.])"
      ]
     },
     "execution_count": 2,
     "metadata": {},
     "output_type": "execute_result"
    }
   ],
   "source": [
    "np.zeros(10)"
   ]
  },
  {
   "cell_type": "code",
   "execution_count": 6,
   "metadata": {},
   "outputs": [
    {
     "data": {
      "text/plain": [
       "array([[0, 0, 0, 0, 0],\n",
       "       [0, 0, 0, 0, 0],\n",
       "       [0, 0, 0, 0, 0],\n",
       "       [0, 0, 0, 0, 0]])"
      ]
     },
     "execution_count": 6,
     "metadata": {},
     "output_type": "execute_result"
    }
   ],
   "source": [
    "z=np.zeros((4,5),dtype='int32')\n",
    "z"
   ]
  },
  {
   "cell_type": "code",
   "execution_count": 5,
   "metadata": {},
   "outputs": [
    {
     "data": {
      "text/plain": [
       "array([[1., 1., 1., 1.],\n",
       "       [1., 1., 1., 1.],\n",
       "       [1., 1., 1., 1.],\n",
       "       [1., 1., 1., 1.]])"
      ]
     },
     "execution_count": 5,
     "metadata": {},
     "output_type": "execute_result"
    }
   ],
   "source": [
    "on=np.ones((4,4))\n",
    "on"
   ]
  },
  {
   "cell_type": "code",
   "execution_count": 7,
   "metadata": {},
   "outputs": [
    {
     "data": {
      "text/plain": [
       "array([[2, 2, 2],\n",
       "       [2, 2, 2],\n",
       "       [2, 2, 2]])"
      ]
     },
     "execution_count": 7,
     "metadata": {},
     "output_type": "execute_result"
    }
   ],
   "source": [
    "tw=np.ones((3,3),dtype='int32')*2\n",
    "tw"
   ]
  },
  {
   "cell_type": "code",
   "execution_count": 8,
   "metadata": {},
   "outputs": [
    {
     "data": {
      "text/plain": [
       "array([[3, 3, 3],\n",
       "       [3, 3, 3],\n",
       "       [3, 3, 3]])"
      ]
     },
     "execution_count": 8,
     "metadata": {},
     "output_type": "execute_result"
    }
   ],
   "source": [
    "th=np.ones((3,3),dtype='int32')*3\n",
    "th"
   ]
  },
  {
   "cell_type": "code",
   "execution_count": 9,
   "metadata": {},
   "outputs": [
    {
     "data": {
      "text/plain": [
       "array([[5, 5, 5, 5, 5, 5, 5, 5],\n",
       "       [5, 5, 5, 5, 5, 5, 5, 5],\n",
       "       [5, 5, 5, 5, 5, 5, 5, 5],\n",
       "       [5, 5, 5, 5, 5, 5, 5, 5],\n",
       "       [5, 5, 5, 5, 5, 5, 5, 5]])"
      ]
     },
     "execution_count": 9,
     "metadata": {},
     "output_type": "execute_result"
    }
   ],
   "source": [
    "any_arr=np.full((5,8), 5)\n",
    "any_arr"
   ]
  },
  {
   "cell_type": "code",
   "execution_count": 10,
   "metadata": {},
   "outputs": [
    {
     "data": {
      "text/plain": [
       "array([[1, 0, 0, 0, 0, 0, 0],\n",
       "       [0, 1, 0, 0, 0, 0, 0],\n",
       "       [0, 0, 1, 0, 0, 0, 0],\n",
       "       [0, 0, 0, 1, 0, 0, 0],\n",
       "       [0, 0, 0, 0, 1, 0, 0],\n",
       "       [0, 0, 0, 0, 0, 1, 0],\n",
       "       [0, 0, 0, 0, 0, 0, 1]])"
      ]
     },
     "execution_count": 10,
     "metadata": {},
     "output_type": "execute_result"
    }
   ],
   "source": [
    "ey=np.eye(7,dtype='int32')#Identity Matrix\n",
    "ey"
   ]
  },
  {
   "cell_type": "code",
   "execution_count": 34,
   "metadata": {},
   "outputs": [
    {
     "name": "stdout",
     "output_type": "stream",
     "text": [
      "1\n"
     ]
    }
   ],
   "source": [
    "for i in range(1,11, 100):\n",
    "    print(i)"
   ]
  },
  {
   "cell_type": "code",
   "execution_count": 27,
   "metadata": {},
   "outputs": [
    {
     "data": {
      "text/plain": [
       "(100,\n",
       " array([ 1.        ,  1.09090909,  1.18181818,  1.27272727,  1.36363636,\n",
       "         1.45454545,  1.54545455,  1.63636364,  1.72727273,  1.81818182,\n",
       "         1.90909091,  2.        ,  2.09090909,  2.18181818,  2.27272727,\n",
       "         2.36363636,  2.45454545,  2.54545455,  2.63636364,  2.72727273,\n",
       "         2.81818182,  2.90909091,  3.        ,  3.09090909,  3.18181818,\n",
       "         3.27272727,  3.36363636,  3.45454545,  3.54545455,  3.63636364,\n",
       "         3.72727273,  3.81818182,  3.90909091,  4.        ,  4.09090909,\n",
       "         4.18181818,  4.27272727,  4.36363636,  4.45454545,  4.54545455,\n",
       "         4.63636364,  4.72727273,  4.81818182,  4.90909091,  5.        ,\n",
       "         5.09090909,  5.18181818,  5.27272727,  5.36363636,  5.45454545,\n",
       "         5.54545455,  5.63636364,  5.72727273,  5.81818182,  5.90909091,\n",
       "         6.        ,  6.09090909,  6.18181818,  6.27272727,  6.36363636,\n",
       "         6.45454545,  6.54545455,  6.63636364,  6.72727273,  6.81818182,\n",
       "         6.90909091,  7.        ,  7.09090909,  7.18181818,  7.27272727,\n",
       "         7.36363636,  7.45454545,  7.54545455,  7.63636364,  7.72727273,\n",
       "         7.81818182,  7.90909091,  8.        ,  8.09090909,  8.18181818,\n",
       "         8.27272727,  8.36363636,  8.45454545,  8.54545455,  8.63636364,\n",
       "         8.72727273,  8.81818182,  8.90909091,  9.        ,  9.09090909,\n",
       "         9.18181818,  9.27272727,  9.36363636,  9.45454545,  9.54545455,\n",
       "         9.63636364,  9.72727273,  9.81818182,  9.90909091, 10.        ]))"
      ]
     },
     "execution_count": 27,
     "metadata": {},
     "output_type": "execute_result"
    }
   ],
   "source": [
    "L=np.linspace(1,10, 100) #It splits a given range into equally spaced partitions\n",
    "len(L),L"
   ]
  },
  {
   "cell_type": "code",
   "execution_count": 28,
   "metadata": {},
   "outputs": [
    {
     "data": {
      "text/plain": [
       "array([ 1.3       ,  1.61034483,  1.92068966,  2.23103448,  2.54137931,\n",
       "        2.85172414,  3.16206897,  3.47241379,  3.78275862,  4.09310345,\n",
       "        4.40344828,  4.7137931 ,  5.02413793,  5.33448276,  5.64482759,\n",
       "        5.95517241,  6.26551724,  6.57586207,  6.8862069 ,  7.19655172,\n",
       "        7.50689655,  7.81724138,  8.12758621,  8.43793103,  8.74827586,\n",
       "        9.05862069,  9.36896552,  9.67931034,  9.98965517, 10.3       ])"
      ]
     },
     "execution_count": 28,
     "metadata": {},
     "output_type": "execute_result"
    }
   ],
   "source": [
    "np.linspace(1.3,10.3,30)"
   ]
  },
  {
   "cell_type": "code",
   "execution_count": 8,
   "metadata": {},
   "outputs": [
    {
     "ename": "TypeError",
     "evalue": "'float' object cannot be interpreted as an integer",
     "output_type": "error",
     "traceback": [
      "\u001b[1;31m---------------------------------------------------------------------------\u001b[0m",
      "\u001b[1;31mTypeError\u001b[0m                                 Traceback (most recent call last)",
      "Input \u001b[1;32mIn [8]\u001b[0m, in \u001b[0;36m<module>\u001b[1;34m\u001b[0m\n\u001b[1;32m----> 1\u001b[0m \u001b[38;5;28;01mfor\u001b[39;00m i \u001b[38;5;129;01min\u001b[39;00m \u001b[38;5;28mrange\u001b[39m(\u001b[38;5;241m1\u001b[39m,\u001b[38;5;241m11\u001b[39m,\u001b[38;5;241m2.5\u001b[39m):\u001b[38;5;28mprint\u001b[39m(i)\n",
      "\u001b[1;31mTypeError\u001b[0m: 'float' object cannot be interpreted as an integer"
     ]
    }
   ],
   "source": [
    "for i in range(1,11,2.5):print(i)"
   ]
  },
  {
   "cell_type": "code",
   "execution_count": 35,
   "metadata": {},
   "outputs": [
    {
     "data": {
      "text/plain": [
       "array([ 1,  2,  3,  4,  5,  6,  7,  8,  9, 10])"
      ]
     },
     "execution_count": 35,
     "metadata": {},
     "output_type": "execute_result"
    }
   ],
   "source": [
    "np.arange(1,11)"
   ]
  },
  {
   "cell_type": "code",
   "execution_count": 30,
   "metadata": {},
   "outputs": [
    {
     "ename": "TypeError",
     "evalue": "'float' object cannot be interpreted as an integer",
     "output_type": "error",
     "traceback": [
      "\u001b[1;31m---------------------------------------------------------------------------\u001b[0m",
      "\u001b[1;31mTypeError\u001b[0m                                 Traceback (most recent call last)",
      "\u001b[1;32m<ipython-input-30-905e743d7ff8>\u001b[0m in \u001b[0;36m<module>\u001b[1;34m\u001b[0m\n\u001b[1;32m----> 1\u001b[1;33m \u001b[1;32mfor\u001b[0m \u001b[0mi\u001b[0m \u001b[1;32min\u001b[0m \u001b[0mrange\u001b[0m\u001b[1;33m(\u001b[0m\u001b[1;36m1\u001b[0m\u001b[1;33m,\u001b[0m\u001b[1;36m11\u001b[0m\u001b[1;33m,\u001b[0m\u001b[1;36m1.5\u001b[0m\u001b[1;33m)\u001b[0m\u001b[1;33m:\u001b[0m\u001b[1;31m#normal range will not allow us to use floating point numbers\u001b[0m\u001b[1;33m\u001b[0m\u001b[1;33m\u001b[0m\u001b[0m\n\u001b[0m\u001b[0;32m      2\u001b[0m     \u001b[0mprint\u001b[0m\u001b[1;33m(\u001b[0m\u001b[0mi\u001b[0m\u001b[1;33m)\u001b[0m\u001b[1;33m\u001b[0m\u001b[1;33m\u001b[0m\u001b[0m\n",
      "\u001b[1;31mTypeError\u001b[0m: 'float' object cannot be interpreted as an integer"
     ]
    }
   ],
   "source": [
    "for i in range(1,11,1.5):#normal range will not allow us to use floating point numbers\n",
    "    print(i)"
   ]
  },
  {
   "cell_type": "code",
   "execution_count": 40,
   "metadata": {},
   "outputs": [
    {
     "data": {
      "text/plain": [
       "array([ 1. ,  2.5,  4. ,  5.5,  7. ,  8.5, 10. ])"
      ]
     },
     "execution_count": 40,
     "metadata": {},
     "output_type": "execute_result"
    }
   ],
   "source": [
    "np.arange(1, 11, 1.5)"
   ]
  },
  {
   "cell_type": "code",
   "execution_count": 9,
   "metadata": {},
   "outputs": [
    {
     "data": {
      "text/plain": [
       "array([1.3, 3.3, 5.3, 7.3, 9.3])"
      ]
     },
     "execution_count": 9,
     "metadata": {},
     "output_type": "execute_result"
    }
   ],
   "source": [
    "np.arange(1.3, 11, 2) #Note: np.arange allows us to use floating point numbers also"
   ]
  },
  {
   "cell_type": "code",
   "execution_count": 5,
   "metadata": {},
   "outputs": [
    {
     "name": "stdout",
     "output_type": "stream",
     "text": [
      "1.3\n",
      "3.3\n",
      "5.3\n",
      "7.299999999999999\n",
      "9.299999999999999\n"
     ]
    }
   ],
   "source": [
    "for i in np.arange(1.3, 11, 2):\n",
    "    print(i)"
   ]
  },
  {
   "cell_type": "code",
   "execution_count": 55,
   "metadata": {},
   "outputs": [
    {
     "data": {
      "text/plain": [
       "array([[0.00726736, 0.9851591 , 0.43065629, 0.65808431, 0.96299652],\n",
       "       [0.05749488, 0.41243745, 0.12955752, 0.77443407, 0.46238381],\n",
       "       [0.66681704, 0.97865982, 0.48813852, 0.6426254 , 0.65737003],\n",
       "       [0.78708456, 0.83510423, 0.86198065, 0.87385771, 0.11337796]])"
      ]
     },
     "execution_count": 55,
     "metadata": {},
     "output_type": "execute_result"
    }
   ],
   "source": [
    "np.random.rand(4,5) #only +ve value in the range(0,1)"
   ]
  },
  {
   "cell_type": "code",
   "execution_count": 9,
   "metadata": {},
   "outputs": [
    {
     "data": {
      "text/plain": [
       "array([[-2.34403196,  0.80750355, -0.32456411,  0.2101258 , -0.18872592],\n",
       "       [-0.42916526,  0.8845959 ,  2.52496935, -0.25322143,  0.39761548],\n",
       "       [ 0.34519702, -0.23681638, -1.1207164 ,  1.15470522, -0.59267164],\n",
       "       [-1.15635446, -0.59243035,  0.43614146,  2.03367001,  1.24857161]])"
      ]
     },
     "execution_count": 9,
     "metadata": {},
     "output_type": "execute_result"
    }
   ],
   "source": [
    "np.random.randn(4,5) #it includes +ve and -ve values with median"
   ]
  },
  {
   "cell_type": "code",
   "execution_count": 57,
   "metadata": {},
   "outputs": [
    {
     "data": {
      "text/plain": [
       "array([[28.4181113 , 23.33210911, 88.40252262, 87.63702715, 65.08491413,\n",
       "        12.33952611, 87.32442627],\n",
       "       [87.64935165, 57.98503207, 19.35240971, 27.19862165, 38.95983069,\n",
       "        14.90015225, 16.66115844],\n",
       "       [12.04033485, 14.498838  , 17.27133423, 33.54641037,  7.91915618,\n",
       "        83.81230299,  4.65224691],\n",
       "       [31.98445377, 25.76799408, 53.64261601, 80.66475384, 77.6361631 ,\n",
       "        19.39314305, 39.58806824],\n",
       "       [31.08434182, 47.45322171, 51.70540448, 60.18688835, 59.3930365 ,\n",
       "        80.68995467, 71.68399073],\n",
       "       [ 1.19757827, 64.76323298, 27.24815795, 19.13488409, 80.17991862,\n",
       "        84.70743557, 48.84645745]])"
      ]
     },
     "execution_count": 57,
     "metadata": {},
     "output_type": "execute_result"
    }
   ],
   "source": [
    "np.random.rand(6,7)*100"
   ]
  },
  {
   "cell_type": "code",
   "execution_count": 58,
   "metadata": {},
   "outputs": [
    {
     "data": {
      "text/plain": [
       "array([[0.59638548, 0.56989726, 0.06642505],\n",
       "       [0.65983796, 0.56786403, 0.67869565],\n",
       "       [0.61026839, 0.80797222, 0.1378889 ]])"
      ]
     },
     "execution_count": 58,
     "metadata": {},
     "output_type": "execute_result"
    }
   ],
   "source": [
    "L=np.random.rand(3,3)\n",
    "L"
   ]
  },
  {
   "cell_type": "code",
   "execution_count": 59,
   "metadata": {},
   "outputs": [
    {
     "data": {
      "text/plain": [
       "array([[59.63854807, 56.98972602,  6.64250462],\n",
       "       [65.98379597, 56.78640263, 67.86956542],\n",
       "       [61.0268388 , 80.79722244, 13.78889043]])"
      ]
     },
     "execution_count": 59,
     "metadata": {},
     "output_type": "execute_result"
    }
   ],
   "source": [
    "L*100"
   ]
  },
  {
   "cell_type": "code",
   "execution_count": 11,
   "metadata": {},
   "outputs": [
    {
     "data": {
      "text/plain": [
       "array([[ 96,  86, 120, 117, 121],\n",
       "       [ 71,  73,  72,  78,  85],\n",
       "       [ 77,  78, 122,  60,  77],\n",
       "       [ 88, 111,  77,  70,  94],\n",
       "       [ 77,  94,  99, 100,  69]])"
      ]
     },
     "execution_count": 11,
     "metadata": {},
     "output_type": "execute_result"
    }
   ],
   "source": [
    "h=np.random.randint(60,130,size=(5,5))\n",
    "h"
   ]
  },
  {
   "cell_type": "code",
   "execution_count": 13,
   "metadata": {},
   "outputs": [
    {
     "data": {
      "text/plain": [
       "array([[15, 25, 25,  9, 18],\n",
       "       [25,  8, 18,  8, 27],\n",
       "       [28,  7,  5,  3, 23],\n",
       "       [12, 20, 29, 10,  6],\n",
       "       [25, 18,  7, 25, 10]])"
      ]
     },
     "execution_count": 13,
     "metadata": {},
     "output_type": "execute_result"
    }
   ],
   "source": [
    "data=np.random.randint(3,30,size=(5,5))\n",
    "data"
   ]
  },
  {
   "cell_type": "code",
   "execution_count": 14,
   "metadata": {},
   "outputs": [
    {
     "data": {
      "text/plain": [
       "25"
      ]
     },
     "execution_count": 14,
     "metadata": {},
     "output_type": "execute_result"
    }
   ],
   "source": [
    "data.size#product of row*cols"
   ]
  },
  {
   "cell_type": "code",
   "execution_count": 15,
   "metadata": {},
   "outputs": [
    {
     "data": {
      "text/plain": [
       "dtype('int32')"
      ]
     },
     "execution_count": 15,
     "metadata": {},
     "output_type": "execute_result"
    }
   ],
   "source": [
    "data.dtype#returns data type of elements"
   ]
  },
  {
   "cell_type": "code",
   "execution_count": 16,
   "metadata": {},
   "outputs": [],
   "source": [
    "data=data.astype('int64')#astype=>It converts elements to given datatype"
   ]
  },
  {
   "cell_type": "code",
   "execution_count": 14,
   "metadata": {},
   "outputs": [
    {
     "data": {
      "text/plain": [
       "dtype('int64')"
      ]
     },
     "execution_count": 14,
     "metadata": {},
     "output_type": "execute_result"
    }
   ],
   "source": [
    "data.dtype"
   ]
  },
  {
   "cell_type": "code",
   "execution_count": 17,
   "metadata": {},
   "outputs": [
    {
     "data": {
      "text/plain": [
       "array([[15., 25., 25.,  9., 18.],\n",
       "       [25.,  8., 18.,  8., 27.],\n",
       "       [28.,  7.,  5.,  3., 23.],\n",
       "       [12., 20., 29., 10.,  6.],\n",
       "       [25., 18.,  7., 25., 10.]])"
      ]
     },
     "execution_count": 17,
     "metadata": {},
     "output_type": "execute_result"
    }
   ],
   "source": [
    "data.astype('float64')"
   ]
  },
  {
   "cell_type": "code",
   "execution_count": 18,
   "metadata": {},
   "outputs": [
    {
     "data": {
      "text/plain": [
       "[[15, 25, 25, 9, 18],\n",
       " [25, 8, 18, 8, 27],\n",
       " [28, 7, 5, 3, 23],\n",
       " [12, 20, 29, 10, 6],\n",
       " [25, 18, 7, 25, 10]]"
      ]
     },
     "execution_count": 18,
     "metadata": {},
     "output_type": "execute_result"
    }
   ],
   "source": [
    "lt=data.tolist()\n",
    "lt"
   ]
  },
  {
   "cell_type": "code",
   "execution_count": 19,
   "metadata": {},
   "outputs": [
    {
     "name": "stdout",
     "output_type": "stream",
     "text": [
      "class:  ndarray\n",
      "shape:  (5, 5)\n",
      "strides:  (40, 8)\n",
      "itemsize:  8\n",
      "aligned:  True\n",
      "contiguous:  True\n",
      "fortran:  False\n",
      "data pointer: 0x2e187bf6290\n",
      "byteorder:  little\n",
      "byteswap:  False\n",
      "type: int64\n"
     ]
    }
   ],
   "source": [
    "np.info(data)"
   ]
  },
  {
   "cell_type": "code",
   "execution_count": 20,
   "metadata": {},
   "outputs": [
    {
     "data": {
      "text/plain": [
       "array([[15., 25., 25.,  9., 18.],\n",
       "       [25.,  8., 18.,  8., 27.],\n",
       "       [28.,  7.,  5.,  3., 23.],\n",
       "       [12., 20., 29., 10.,  6.],\n",
       "       [25., 18.,  7., 25., 10.]])"
      ]
     },
     "execution_count": 20,
     "metadata": {},
     "output_type": "execute_result"
    }
   ],
   "source": [
    "data=data.astype('float')\n",
    "data"
   ]
  },
  {
   "cell_type": "code",
   "execution_count": 21,
   "metadata": {},
   "outputs": [
    {
     "data": {
      "text/plain": [
       "dtype('float64')"
      ]
     },
     "execution_count": 21,
     "metadata": {},
     "output_type": "execute_result"
    }
   ],
   "source": [
    "data.dtype"
   ]
  },
  {
   "cell_type": "code",
   "execution_count": 22,
   "metadata": {},
   "outputs": [
    {
     "data": {
      "text/plain": [
       "array([[4624633867356078080, 4627730092099895296, 4627730092099895296,\n",
       "        4621256167635550208, 4625759767262920704],\n",
       "       [4627730092099895296, 4620693217682128896, 4625759767262920704,\n",
       "        4620693217682128896, 4628293042053316608],\n",
       "       [4628574517030027264, 4619567317775286272, 4617315517961601024,\n",
       "        4613937818241073152, 4627167142146473984],\n",
       "       [4622945017495814144, 4626322717216342016, 4628855992006737920,\n",
       "        4621819117588971520, 4618441417868443648],\n",
       "       [4627730092099895296, 4625759767262920704, 4619567317775286272,\n",
       "        4627730092099895296, 4621819117588971520]], dtype=int64)"
      ]
     },
     "execution_count": 22,
     "metadata": {},
     "output_type": "execute_result"
    }
   ],
   "source": [
    "data.view('int64')"
   ]
  },
  {
   "cell_type": "code",
   "execution_count": 23,
   "metadata": {},
   "outputs": [
    {
     "data": {
      "text/plain": [
       "array([[15, 25, 25,  9, 18],\n",
       "       [25,  8, 18,  8, 27],\n",
       "       [28,  7,  5,  3, 23],\n",
       "       [12, 20, 29, 10,  6],\n",
       "       [25, 18,  7, 25, 10]], dtype=int64)"
      ]
     },
     "execution_count": 23,
     "metadata": {},
     "output_type": "execute_result"
    }
   ],
   "source": [
    "data=data.astype('int64')\n",
    "data"
   ]
  },
  {
   "cell_type": "code",
   "execution_count": 24,
   "metadata": {},
   "outputs": [],
   "source": [
    "data.sort() #row-wise sorting"
   ]
  },
  {
   "cell_type": "code",
   "execution_count": 25,
   "metadata": {},
   "outputs": [
    {
     "data": {
      "text/plain": [
       "array([[ 9, 15, 18, 25, 25],\n",
       "       [ 8,  8, 18, 25, 27],\n",
       "       [ 3,  5,  7, 23, 28],\n",
       "       [ 6, 10, 12, 20, 29],\n",
       "       [ 7, 10, 18, 25, 25]], dtype=int64)"
      ]
     },
     "execution_count": 25,
     "metadata": {},
     "output_type": "execute_result"
    }
   ],
   "source": [
    "data"
   ]
  },
  {
   "cell_type": "code",
   "execution_count": 26,
   "metadata": {},
   "outputs": [
    {
     "data": {
      "text/plain": [
       "array([[ 3,  5,  7, 20, 25],\n",
       "       [ 6,  8, 12, 23, 25],\n",
       "       [ 7, 10, 18, 25, 27],\n",
       "       [ 8, 10, 18, 25, 28],\n",
       "       [ 9, 15, 18, 25, 29]], dtype=int64)"
      ]
     },
     "execution_count": 26,
     "metadata": {},
     "output_type": "execute_result"
    }
   ],
   "source": [
    "data.sort(axis=0)#column-wise sorting\n",
    "data"
   ]
  },
  {
   "cell_type": "code",
   "execution_count": 27,
   "metadata": {},
   "outputs": [
    {
     "data": {
      "text/plain": [
       "array([ 3,  5,  7, 20, 25,  6,  8, 12, 23, 25,  7, 10, 18, 25, 27,  8, 10,\n",
       "       18, 25, 28,  9, 15, 18, 25, 29], dtype=int64)"
      ]
     },
     "execution_count": 27,
     "metadata": {},
     "output_type": "execute_result"
    }
   ],
   "source": [
    "data.flatten() # converting 2D array to 1D"
   ]
  },
  {
   "cell_type": "code",
   "execution_count": 23,
   "metadata": {},
   "outputs": [
    {
     "ename": "NameError",
     "evalue": "name 'data' is not defined",
     "output_type": "error",
     "traceback": [
      "\u001b[1;31m---------------------------------------------------------------------------\u001b[0m",
      "\u001b[1;31mNameError\u001b[0m                                 Traceback (most recent call last)",
      "Cell \u001b[1;32mIn [23], line 1\u001b[0m\n\u001b[1;32m----> 1\u001b[0m \u001b[43mdata\u001b[49m\u001b[38;5;241m.\u001b[39mT\n",
      "\u001b[1;31mNameError\u001b[0m: name 'data' is not defined"
     ]
    }
   ],
   "source": [
    "data.T #Transpose: rows becomes columns and vice-versa"
   ]
  },
  {
   "cell_type": "code",
   "execution_count": 24,
   "metadata": {},
   "outputs": [
    {
     "ename": "NameError",
     "evalue": "name 'data' is not defined",
     "output_type": "error",
     "traceback": [
      "\u001b[1;31m---------------------------------------------------------------------------\u001b[0m",
      "\u001b[1;31mNameError\u001b[0m                                 Traceback (most recent call last)",
      "Cell \u001b[1;32mIn [24], line 1\u001b[0m\n\u001b[1;32m----> 1\u001b[0m \u001b[43mdata\u001b[49m\n",
      "\u001b[1;31mNameError\u001b[0m: name 'data' is not defined"
     ]
    }
   ],
   "source": [
    "data"
   ]
  },
  {
   "cell_type": "code",
   "execution_count": 25,
   "metadata": {},
   "outputs": [
    {
     "data": {
      "text/plain": [
       "array([[28, 22, 16, 16],\n",
       "       [13, 24, 20, 23],\n",
       "       [26, 10, 23, 16]])"
      ]
     },
     "execution_count": 25,
     "metadata": {},
     "output_type": "execute_result"
    }
   ],
   "source": [
    "ex=np.random.randint(10,30,size=(3,4))\n",
    "ex"
   ]
  },
  {
   "cell_type": "code",
   "execution_count": 31,
   "metadata": {},
   "outputs": [
    {
     "data": {
      "text/plain": [
       "array([[15, 19, 13],\n",
       "       [13, 12, 18],\n",
       "       [18, 23, 14],\n",
       "       [13, 15, 11]])"
      ]
     },
     "execution_count": 31,
     "metadata": {},
     "output_type": "execute_result"
    }
   ],
   "source": [
    "ex.reshape(4,3)"
   ]
  },
  {
   "cell_type": "code",
   "execution_count": 26,
   "metadata": {},
   "outputs": [
    {
     "data": {
      "text/plain": [
       "array([[28, 22, 16, 16, 13, 24],\n",
       "       [20, 23, 26, 10, 23, 16]])"
      ]
     },
     "execution_count": 26,
     "metadata": {},
     "output_type": "execute_result"
    }
   ],
   "source": [
    "ex.reshape(2,6)"
   ]
  },
  {
   "cell_type": "code",
   "execution_count": 65,
   "metadata": {},
   "outputs": [
    {
     "ename": "ValueError",
     "evalue": "cannot reshape array of size 12 into shape (4,4)",
     "output_type": "error",
     "traceback": [
      "\u001b[1;31m---------------------------------------------------------------------------\u001b[0m",
      "\u001b[1;31mValueError\u001b[0m                                Traceback (most recent call last)",
      "\u001b[1;32m<ipython-input-65-5c3af1db454f>\u001b[0m in \u001b[0;36m<module>\u001b[1;34m\u001b[0m\n\u001b[1;32m----> 1\u001b[1;33m \u001b[0mex\u001b[0m\u001b[1;33m.\u001b[0m\u001b[0mreshape\u001b[0m\u001b[1;33m(\u001b[0m\u001b[1;36m4\u001b[0m\u001b[1;33m,\u001b[0m\u001b[1;36m4\u001b[0m\u001b[1;33m)\u001b[0m\u001b[1;33m\u001b[0m\u001b[1;33m\u001b[0m\u001b[0m\n\u001b[0m",
      "\u001b[1;31mValueError\u001b[0m: cannot reshape array of size 12 into shape (4,4)"
     ]
    }
   ],
   "source": [
    "ex.reshape(4,4)"
   ]
  },
  {
   "cell_type": "code",
   "execution_count": 24,
   "metadata": {},
   "outputs": [
    {
     "data": {
      "text/plain": [
       "array([[17, 28, 16, 13],\n",
       "       [20, 14, 19, 16],\n",
       "       [23, 27, 10, 29],\n",
       "       [17, 28, 16, 13]])"
      ]
     },
     "execution_count": 24,
     "metadata": {},
     "output_type": "execute_result"
    }
   ],
   "source": [
    "np.resize(ex,(4,4))"
   ]
  },
  {
   "cell_type": "code",
   "execution_count": 33,
   "metadata": {},
   "outputs": [
    {
     "data": {
      "text/plain": [
       "array([[ 3,  5,  7, 20, 25,  6],\n",
       "       [ 8, 12, 23, 25,  7, 10],\n",
       "       [18, 25, 27,  8, 10, 18],\n",
       "       [25, 28,  9, 15, 18, 25],\n",
       "       [29,  3,  5,  7, 20, 25]], dtype=int64)"
      ]
     },
     "execution_count": 33,
     "metadata": {},
     "output_type": "execute_result"
    }
   ],
   "source": [
    "np.resize(data,(5,6))"
   ]
  },
  {
   "cell_type": "code",
   "execution_count": 34,
   "metadata": {},
   "outputs": [
    {
     "data": {
      "text/plain": [
       "array([1, 2, 3])"
      ]
     },
     "execution_count": 34,
     "metadata": {},
     "output_type": "execute_result"
    }
   ],
   "source": [
    "arr=np.array([1,2,3])\n",
    "arr"
   ]
  },
  {
   "cell_type": "code",
   "execution_count": 84,
   "metadata": {},
   "outputs": [
    {
     "data": {
      "text/plain": [
       "array([ 1,  2,  3, 10])"
      ]
     },
     "execution_count": 84,
     "metadata": {},
     "output_type": "execute_result"
    }
   ],
   "source": [
    "arr=np.append(arr,10)\n",
    "arr"
   ]
  },
  {
   "cell_type": "code",
   "execution_count": 35,
   "metadata": {},
   "outputs": [
    {
     "data": {
      "text/plain": [
       "array([[15, 19, 13, 13],\n",
       "       [12, 18, 18, 23],\n",
       "       [14, 13, 15, 11]])"
      ]
     },
     "execution_count": 35,
     "metadata": {},
     "output_type": "execute_result"
    }
   ],
   "source": [
    "ex"
   ]
  },
  {
   "cell_type": "code",
   "execution_count": 36,
   "metadata": {},
   "outputs": [
    {
     "data": {
      "text/plain": [
       "array([[15, 19, 13],\n",
       "       [12, 18, 23],\n",
       "       [14, 13, 11]])"
      ]
     },
     "execution_count": 36,
     "metadata": {},
     "output_type": "execute_result"
    }
   ],
   "source": [
    "np.delete(ex,2,axis=1) #deletes col 2 from array"
   ]
  },
  {
   "cell_type": "code",
   "execution_count": 37,
   "metadata": {},
   "outputs": [
    {
     "data": {
      "text/plain": [
       "array([[15, 19, 13, 13],\n",
       "       [12, 18, 18, 23]])"
      ]
     },
     "execution_count": 37,
     "metadata": {},
     "output_type": "execute_result"
    }
   ],
   "source": [
    "np.delete(ex,2,axis=0)#deletes row 2 from array"
   ]
  },
  {
   "cell_type": "code",
   "execution_count": 40,
   "metadata": {},
   "outputs": [
    {
     "data": {
      "text/plain": [
       "array([[ 3,  5,  7, 20, 25],\n",
       "       [ 6,  8, 12, 23, 25],\n",
       "       [ 7, 10, 18, 25, 27],\n",
       "       [ 8, 10, 18, 25, 28],\n",
       "       [ 9, 15, 18, 25, 29]], dtype=int64)"
      ]
     },
     "execution_count": 40,
     "metadata": {},
     "output_type": "execute_result"
    }
   ],
   "source": [
    "data"
   ]
  },
  {
   "cell_type": "code",
   "execution_count": 16,
   "metadata": {},
   "outputs": [
    {
     "ename": "NameError",
     "evalue": "name 'h' is not defined",
     "output_type": "error",
     "traceback": [
      "\u001b[1;31m---------------------------------------------------------------------------\u001b[0m",
      "\u001b[1;31mNameError\u001b[0m                                 Traceback (most recent call last)",
      "Cell \u001b[1;32mIn [16], line 1\u001b[0m\n\u001b[1;32m----> 1\u001b[0m \u001b[43mh\u001b[49m\n",
      "\u001b[1;31mNameError\u001b[0m: name 'h' is not defined"
     ]
    }
   ],
   "source": [
    "h"
   ]
  },
  {
   "cell_type": "code",
   "execution_count": 17,
   "metadata": {},
   "outputs": [
    {
     "ename": "NameError",
     "evalue": "name 'data' is not defined",
     "output_type": "error",
     "traceback": [
      "\u001b[1;31m---------------------------------------------------------------------------\u001b[0m",
      "\u001b[1;31mNameError\u001b[0m                                 Traceback (most recent call last)",
      "Cell \u001b[1;32mIn [17], line 1\u001b[0m\n\u001b[1;32m----> 1\u001b[0m np\u001b[38;5;241m.\u001b[39mconcatenate((\u001b[43mdata\u001b[49m,h),axis\u001b[38;5;241m=\u001b[39m\u001b[38;5;241m0\u001b[39m)\n",
      "\u001b[1;31mNameError\u001b[0m: name 'data' is not defined"
     ]
    }
   ],
   "source": [
    "np.concatenate((data,h),axis=0) #row-wise "
   ]
  },
  {
   "cell_type": "code",
   "execution_count": 42,
   "metadata": {},
   "outputs": [
    {
     "data": {
      "text/plain": [
       "array([[  3,   5,   7,  20,  25,  96,  86, 120, 117, 121],\n",
       "       [  6,   8,  12,  23,  25,  71,  73,  72,  78,  85],\n",
       "       [  7,  10,  18,  25,  27,  77,  78, 122,  60,  77],\n",
       "       [  8,  10,  18,  25,  28,  88, 111,  77,  70,  94],\n",
       "       [  9,  15,  18,  25,  29,  77,  94,  99, 100,  69]], dtype=int64)"
      ]
     },
     "execution_count": 42,
     "metadata": {},
     "output_type": "execute_result"
    }
   ],
   "source": [
    "np.concatenate((data,h),axis=1) #col-wise"
   ]
  },
  {
   "cell_type": "code",
   "execution_count": 45,
   "metadata": {},
   "outputs": [
    {
     "data": {
      "text/plain": [
       "[array([[ 96,  86, 120, 117, 121]]),\n",
       " array([[71, 73, 72, 78, 85]]),\n",
       " array([[ 77,  78, 122,  60,  77]]),\n",
       " array([[ 88, 111,  77,  70,  94]]),\n",
       " array([[ 77,  94,  99, 100,  69]])]"
      ]
     },
     "execution_count": 45,
     "metadata": {},
     "output_type": "execute_result"
    }
   ],
   "source": [
    "np.split(h,5) #row-wise split"
   ]
  },
  {
   "cell_type": "code",
   "execution_count": 46,
   "metadata": {},
   "outputs": [
    {
     "data": {
      "text/plain": [
       "[array([[96],\n",
       "        [71],\n",
       "        [77],\n",
       "        [88],\n",
       "        [77]]),\n",
       " array([[ 86],\n",
       "        [ 73],\n",
       "        [ 78],\n",
       "        [111],\n",
       "        [ 94]]),\n",
       " array([[120],\n",
       "        [ 72],\n",
       "        [122],\n",
       "        [ 77],\n",
       "        [ 99]]),\n",
       " array([[117],\n",
       "        [ 78],\n",
       "        [ 60],\n",
       "        [ 70],\n",
       "        [100]]),\n",
       " array([[121],\n",
       "        [ 85],\n",
       "        [ 77],\n",
       "        [ 94],\n",
       "        [ 69]])]"
      ]
     },
     "execution_count": 46,
     "metadata": {},
     "output_type": "execute_result"
    }
   ],
   "source": [
    "np.hsplit(h,5)#col-wise split"
   ]
  },
  {
   "cell_type": "code",
   "execution_count": 47,
   "metadata": {},
   "outputs": [
    {
     "data": {
      "text/plain": [
       "array([[ 96,  86, 120, 117, 121],\n",
       "       [ 71,  73,  72,  78,  85],\n",
       "       [ 77,  78, 122,  60,  77],\n",
       "       [ 88, 111,  77,  70,  94],\n",
       "       [ 77,  94,  99, 100,  69]])"
      ]
     },
     "execution_count": 47,
     "metadata": {},
     "output_type": "execute_result"
    }
   ],
   "source": [
    "h"
   ]
  },
  {
   "cell_type": "code",
   "execution_count": 48,
   "metadata": {},
   "outputs": [
    {
     "data": {
      "text/plain": [
       "array([ 96,  86, 120, 117, 121])"
      ]
     },
     "execution_count": 48,
     "metadata": {},
     "output_type": "execute_result"
    }
   ],
   "source": [
    "h[0]"
   ]
  },
  {
   "cell_type": "code",
   "execution_count": 49,
   "metadata": {},
   "outputs": [
    {
     "data": {
      "text/plain": [
       "120"
      ]
     },
     "execution_count": 49,
     "metadata": {},
     "output_type": "execute_result"
    }
   ],
   "source": [
    "h[0][2]"
   ]
  },
  {
   "cell_type": "code",
   "execution_count": 50,
   "metadata": {},
   "outputs": [
    {
     "data": {
      "text/plain": [
       "120"
      ]
     },
     "execution_count": 50,
     "metadata": {},
     "output_type": "execute_result"
    }
   ],
   "source": [
    "h[0,2] #Hash the values of 0th row and 2nd col--> [row, col] "
   ]
  },
  {
   "cell_type": "code",
   "execution_count": 51,
   "metadata": {},
   "outputs": [
    {
     "data": {
      "text/plain": [
       "array([[ 96,  86, 120, 117, 121],\n",
       "       [ 77,  78, 122,  60,  77],\n",
       "       [ 77,  94,  99, 100,  69]])"
      ]
     },
     "execution_count": 51,
     "metadata": {},
     "output_type": "execute_result"
    }
   ],
   "source": [
    "#arr[rowindex,colindex]\n",
    "\n",
    "h[::2, :]"
   ]
  },
  {
   "cell_type": "code",
   "execution_count": 52,
   "metadata": {},
   "outputs": [
    {
     "data": {
      "text/plain": [
       "array([[71, 72, 85],\n",
       "       [88, 77, 94]])"
      ]
     },
     "execution_count": 52,
     "metadata": {},
     "output_type": "execute_result"
    }
   ],
   "source": [
    "h[1::2, ::2]"
   ]
  },
  {
   "cell_type": "code",
   "execution_count": 54,
   "metadata": {},
   "outputs": [
    {
     "data": {
      "text/plain": [
       "array([[ True,  True,  True,  True,  True],\n",
       "       [False, False, False,  True,  True],\n",
       "       [ True,  True,  True, False,  True],\n",
       "       [ True,  True,  True, False,  True],\n",
       "       [ True,  True,  True,  True, False]])"
      ]
     },
     "execution_count": 54,
     "metadata": {},
     "output_type": "execute_result"
    }
   ],
   "source": [
    "h>75"
   ]
  },
  {
   "cell_type": "code",
   "execution_count": 56,
   "metadata": {},
   "outputs": [
    {
     "data": {
      "text/plain": [
       "array([ 96,  86, 120, 117, 121,  78,  85,  77,  78, 122,  77,  88, 111,\n",
       "        77,  94,  77,  94,  99, 100])"
      ]
     },
     "execution_count": 56,
     "metadata": {},
     "output_type": "execute_result"
    }
   ],
   "source": [
    "h [h>75] #It will filter the data where values are greater than 75"
   ]
  },
  {
   "cell_type": "code",
   "execution_count": 57,
   "metadata": {},
   "outputs": [
    {
     "data": {
      "text/plain": [
       "array([[ 96,  86, 120, 117, 121],\n",
       "       [ 71,  73,  72,  78,  85],\n",
       "       [ 77,  78, 122,  60,  77],\n",
       "       [ 88, 111,  77,  70,  94],\n",
       "       [ 77,  94,  99, 100,  69]])"
      ]
     },
     "execution_count": 57,
     "metadata": {},
     "output_type": "execute_result"
    }
   ],
   "source": [
    "h"
   ]
  },
  {
   "cell_type": "code",
   "execution_count": 58,
   "metadata": {},
   "outputs": [
    {
     "data": {
      "text/plain": [
       "array([[ -97,  -87, -121, -118, -122],\n",
       "       [ -72,  -74,  -73,  -79,  -86],\n",
       "       [ -78,  -79, -123,  -61,  -78],\n",
       "       [ -89, -112,  -78,  -71,  -95],\n",
       "       [ -78,  -95, -100, -101,  -70]])"
      ]
     },
     "execution_count": 58,
     "metadata": {},
     "output_type": "execute_result"
    }
   ],
   "source": [
    "~h #Inverse of Matrix"
   ]
  },
  {
   "cell_type": "code",
   "execution_count": 59,
   "metadata": {},
   "outputs": [
    {
     "data": {
      "text/plain": [
       "array([[ 96,  86, 120, 117, 121],\n",
       "       [ 71,  73,  72,  78,  85],\n",
       "       [ 77,  78, 122,  60,  77],\n",
       "       [ 88, 111,  77,  70,  94],\n",
       "       [ 77,  94,  99, 100,  69]])"
      ]
     },
     "execution_count": 59,
     "metadata": {},
     "output_type": "execute_result"
    }
   ],
   "source": [
    "h"
   ]
  },
  {
   "cell_type": "code",
   "execution_count": 60,
   "metadata": {},
   "outputs": [
    {
     "data": {
      "text/plain": [
       "array([[106,  96, 130, 127, 131],\n",
       "       [ 81,  83,  82,  88,  95],\n",
       "       [ 87,  88, 132,  70,  87],\n",
       "       [ 98, 121,  87,  80, 104],\n",
       "       [ 87, 104, 109, 110,  79]])"
      ]
     },
     "execution_count": 60,
     "metadata": {},
     "output_type": "execute_result"
    }
   ],
   "source": [
    "h+10"
   ]
  },
  {
   "cell_type": "code",
   "execution_count": 61,
   "metadata": {},
   "outputs": [
    {
     "data": {
      "text/plain": [
       "2212"
      ]
     },
     "execution_count": 61,
     "metadata": {},
     "output_type": "execute_result"
    }
   ],
   "source": [
    "h.sum()"
   ]
  },
  {
   "cell_type": "code",
   "execution_count": 62,
   "metadata": {},
   "outputs": [
    {
     "data": {
      "text/plain": [
       "60"
      ]
     },
     "execution_count": 62,
     "metadata": {},
     "output_type": "execute_result"
    }
   ],
   "source": [
    "h.min()"
   ]
  },
  {
   "cell_type": "code",
   "execution_count": 63,
   "metadata": {},
   "outputs": [
    {
     "data": {
      "text/plain": [
       "122"
      ]
     },
     "execution_count": 63,
     "metadata": {},
     "output_type": "execute_result"
    }
   ],
   "source": [
    "h.max()"
   ]
  },
  {
   "cell_type": "code",
   "execution_count": 64,
   "metadata": {},
   "outputs": [
    {
     "data": {
      "text/plain": [
       "array([121,  85, 122, 111, 100])"
      ]
     },
     "execution_count": 64,
     "metadata": {},
     "output_type": "execute_result"
    }
   ],
   "source": [
    "h.max(axis=1)#Max values in individual columns"
   ]
  },
  {
   "cell_type": "code",
   "execution_count": 65,
   "metadata": {},
   "outputs": [
    {
     "data": {
      "text/plain": [
       "array([ 96, 111, 122, 117, 121])"
      ]
     },
     "execution_count": 65,
     "metadata": {},
     "output_type": "execute_result"
    }
   ],
   "source": [
    "h.max(axis=0)#Max values in individual rows"
   ]
  },
  {
   "cell_type": "code",
   "execution_count": 66,
   "metadata": {},
   "outputs": [
    {
     "name": "stderr",
     "output_type": "stream",
     "text": [
      "C:\\Users\\Shree\\AppData\\Local\\Temp\\ipykernel_7656\\3426729955.py:1: DeprecationWarning: elementwise comparison failed; this will raise an error in the future.\n",
      "  a1==a2\n"
     ]
    },
    {
     "data": {
      "text/plain": [
       "False"
      ]
     },
     "execution_count": 66,
     "metadata": {},
     "output_type": "execute_result"
    }
   ],
   "source": [
    "a1==a2"
   ]
  },
  {
   "cell_type": "code",
   "execution_count": 67,
   "metadata": {},
   "outputs": [
    {
     "data": {
      "text/plain": [
       "False"
      ]
     },
     "execution_count": 67,
     "metadata": {},
     "output_type": "execute_result"
    }
   ],
   "source": [
    "np.array_equal(a1,a2)"
   ]
  },
  {
   "cell_type": "code",
   "execution_count": 68,
   "metadata": {},
   "outputs": [
    {
     "data": {
      "text/plain": [
       "(array([10, 20, 30, 40]), array([10, 20, 30, 40]))"
      ]
     },
     "execution_count": 68,
     "metadata": {},
     "output_type": "execute_result"
    }
   ],
   "source": [
    "a3=np.array(L1)\n",
    "a3,a1"
   ]
  },
  {
   "cell_type": "code",
   "execution_count": 69,
   "metadata": {},
   "outputs": [
    {
     "data": {
      "text/plain": [
       "True"
      ]
     },
     "execution_count": 69,
     "metadata": {},
     "output_type": "execute_result"
    }
   ],
   "source": [
    "np.array_equal(a1,a3)"
   ]
  },
  {
   "cell_type": "code",
   "execution_count": 70,
   "metadata": {},
   "outputs": [
    {
     "data": {
      "text/plain": [
       "array([ True,  True,  True,  True])"
      ]
     },
     "execution_count": 70,
     "metadata": {},
     "output_type": "execute_result"
    }
   ],
   "source": [
    "a1==a3"
   ]
  },
  {
   "cell_type": "code",
   "execution_count": 71,
   "metadata": {},
   "outputs": [
    {
     "data": {
      "text/plain": [
       "array([[ 96,  86, 120, 117, 121],\n",
       "       [ 71,  73,  72,  78,  85],\n",
       "       [ 77,  78, 122,  60,  77],\n",
       "       [ 88, 111,  77,  70,  94],\n",
       "       [ 77,  94,  99, 100,  69]])"
      ]
     },
     "execution_count": 71,
     "metadata": {},
     "output_type": "execute_result"
    }
   ],
   "source": [
    "h"
   ]
  },
  {
   "cell_type": "code",
   "execution_count": 72,
   "metadata": {},
   "outputs": [
    {
     "data": {
      "text/plain": [
       "array([[ 96,  71,  77,  88,  77],\n",
       "       [ 86,  73,  78, 111,  94],\n",
       "       [120,  72, 122,  77,  99],\n",
       "       [117,  78,  60,  70, 100],\n",
       "       [121,  85,  77,  94,  69]])"
      ]
     },
     "execution_count": 72,
     "metadata": {},
     "output_type": "execute_result"
    }
   ],
   "source": [
    "np.transpose(h)"
   ]
  },
  {
   "cell_type": "code",
   "execution_count": 73,
   "metadata": {},
   "outputs": [
    {
     "data": {
      "text/plain": [
       "array([3.16227766, 4.47213595, 5.47722558, 6.32455532])"
      ]
     },
     "execution_count": 73,
     "metadata": {},
     "output_type": "execute_result"
    }
   ],
   "source": [
    "np.sqrt(a1)"
   ]
  },
  {
   "cell_type": "code",
   "execution_count": 74,
   "metadata": {},
   "outputs": [
    {
     "data": {
      "text/plain": [
       "array([3., 4., 5., 6.])"
      ]
     },
     "execution_count": 74,
     "metadata": {},
     "output_type": "execute_result"
    }
   ],
   "source": [
    "np.floor(np.sqrt(a1))"
   ]
  },
  {
   "cell_type": "code",
   "execution_count": 75,
   "metadata": {},
   "outputs": [
    {
     "data": {
      "text/plain": [
       "array([[ 96,  71,  77,  88,  77],\n",
       "       [ 86,  73,  78, 111,  94],\n",
       "       [120,  72, 122,  77,  99],\n",
       "       [117,  78,  60,  70, 100],\n",
       "       [121,  85,  77,  94,  69]])"
      ]
     },
     "execution_count": 75,
     "metadata": {},
     "output_type": "execute_result"
    }
   ],
   "source": [
    "h.T"
   ]
  },
  {
   "cell_type": "code",
   "execution_count": 76,
   "metadata": {},
   "outputs": [
    {
     "data": {
      "text/plain": [
       "array([ 96,  86, 120, 117, 121,  71,  73,  72,  78,  85,  77,  78, 122,\n",
       "        60,  77,  88, 111,  77,  70,  94,  77,  94,  99, 100,  69])"
      ]
     },
     "execution_count": 76,
     "metadata": {},
     "output_type": "execute_result"
    }
   ],
   "source": [
    "h.ravel()"
   ]
  },
  {
   "cell_type": "code",
   "execution_count": 77,
   "metadata": {},
   "outputs": [
    {
     "data": {
      "text/plain": [
       "array([ 96,  86, 120, 117, 121,  71,  73,  72,  78,  85,  77,  78, 122,\n",
       "        60,  77,  88, 111,  77,  70,  94,  77,  94,  99, 100,  69])"
      ]
     },
     "execution_count": 77,
     "metadata": {},
     "output_type": "execute_result"
    }
   ],
   "source": [
    "h.flatten()"
   ]
  },
  {
   "cell_type": "markdown",
   "metadata": {},
   "source": [
    "## reading csv file using numpy"
   ]
  },
  {
   "cell_type": "code",
   "execution_count": 3,
   "metadata": {},
   "outputs": [
    {
     "data": {
      "text/plain": [
       "array([[      nan,       nan,       nan,       nan,       nan,       nan,\n",
       "              nan,       nan,       nan],\n",
       "       [1.800e+01, 8.000e+00, 3.070e+02, 1.300e+02, 3.504e+03, 1.200e+01,\n",
       "        7.000e+01, 1.000e+00,       nan],\n",
       "       [1.500e+01, 8.000e+00, 3.500e+02, 1.650e+02, 3.693e+03, 1.150e+01,\n",
       "        7.000e+01, 1.000e+00,       nan],\n",
       "       [1.800e+01, 8.000e+00, 3.180e+02, 1.500e+02, 3.436e+03, 1.100e+01,\n",
       "        7.000e+01, 1.000e+00,       nan],\n",
       "       [1.600e+01, 8.000e+00, 3.040e+02, 1.500e+02, 3.433e+03, 1.200e+01,\n",
       "        7.000e+01, 1.000e+00,       nan]])"
      ]
     },
     "execution_count": 3,
     "metadata": {},
     "output_type": "execute_result"
    }
   ],
   "source": [
    "data=np.genfromtxt(\"Auto.csv\",delimiter=',')\n",
    "data[:5]"
   ]
  },
  {
   "cell_type": "markdown",
   "metadata": {},
   "source": [
    "**nan** means **n**ot **a n**umber\n",
    "\n",
    "It is an standard missing data marker used in data analysis"
   ]
  },
  {
   "cell_type": "code",
   "execution_count": 4,
   "metadata": {},
   "outputs": [
    {
     "data": {
      "text/plain": [
       "array([[ 18.,   8., 307., ...,  70.,   1.,  nan],\n",
       "       [ 15.,   8., 350., ...,  70.,   1.,  nan],\n",
       "       [ 18.,   8., 318., ...,  70.,   1.,  nan],\n",
       "       ...,\n",
       "       [ 32.,   4., 135., ...,  82.,   1.,  nan],\n",
       "       [ 28.,   4., 120., ...,  82.,   1.,  nan],\n",
       "       [ 31.,   4., 119., ...,  82.,   1.,  nan]])"
      ]
     },
     "execution_count": 4,
     "metadata": {},
     "output_type": "execute_result"
    }
   ],
   "source": [
    "data=data[1:]\n",
    "data"
   ]
  },
  {
   "cell_type": "code",
   "execution_count": 5,
   "metadata": {},
   "outputs": [
    {
     "data": {
      "text/plain": [
       "array([[ 18. ,   8. , 307. , ...,  12. ,  70. ,   1. ],\n",
       "       [ 15. ,   8. , 350. , ...,  11.5,  70. ,   1. ],\n",
       "       [ 18. ,   8. , 318. , ...,  11. ,  70. ,   1. ],\n",
       "       ...,\n",
       "       [ 32. ,   4. , 135. , ...,  11.6,  82. ,   1. ],\n",
       "       [ 28. ,   4. , 120. , ...,  18.6,  82. ,   1. ],\n",
       "       [ 31. ,   4. , 119. , ...,  19.4,  82. ,   1. ]])"
      ]
     },
     "execution_count": 5,
     "metadata": {},
     "output_type": "execute_result"
    }
   ],
   "source": [
    "data=data[:,:-1]\n",
    "data"
   ]
  },
  {
   "cell_type": "code",
   "execution_count": 8,
   "metadata": {},
   "outputs": [
    {
     "data": {
      "text/plain": [
       "392"
      ]
     },
     "execution_count": 8,
     "metadata": {},
     "output_type": "execute_result"
    }
   ],
   "source": [
    "len(data)"
   ]
  },
  {
   "cell_type": "code",
   "execution_count": 9,
   "metadata": {},
   "outputs": [
    {
     "data": {
      "text/plain": [
       "2"
      ]
     },
     "execution_count": 9,
     "metadata": {},
     "output_type": "execute_result"
    }
   ],
   "source": [
    "data.ndim"
   ]
  },
  {
   "cell_type": "code",
   "execution_count": 10,
   "metadata": {},
   "outputs": [
    {
     "data": {
      "text/plain": [
       "(392, 8)"
      ]
     },
     "execution_count": 10,
     "metadata": {},
     "output_type": "execute_result"
    }
   ],
   "source": [
    "data.shape"
   ]
  },
  {
   "cell_type": "code",
   "execution_count": 16,
   "metadata": {},
   "outputs": [
    {
     "data": {
      "text/plain": [
       "array(['1', '2', '3', '4', '5', '6', '7', '8', '9', '10', 'abc'],\n",
       "      dtype=object)"
      ]
     },
     "execution_count": 16,
     "metadata": {},
     "output_type": "execute_result"
    }
   ],
   "source": [
    "text=np.loadtxt(\"file_demo.txt\",dtype=\"object\")\n",
    "text"
   ]
  },
  {
   "cell_type": "code",
   "execution_count": 17,
   "metadata": {},
   "outputs": [
    {
     "data": {
      "text/plain": [
       "array([[ 18. ,   8. , 307. , ...,  12. ,  70. ,   1. ],\n",
       "       [ 15. ,   8. , 350. , ...,  11.5,  70. ,   1. ],\n",
       "       [ 18. ,   8. , 318. , ...,  11. ,  70. ,   1. ],\n",
       "       ...,\n",
       "       [ 32. ,   4. , 135. , ...,  11.6,  82. ,   1. ],\n",
       "       [ 28. ,   4. , 120. , ...,  18.6,  82. ,   1. ],\n",
       "       [ 31. ,   4. , 119. , ...,  19.4,  82. ,   1. ]])"
      ]
     },
     "execution_count": 17,
     "metadata": {},
     "output_type": "execute_result"
    }
   ],
   "source": [
    "data"
   ]
  },
  {
   "cell_type": "code",
   "execution_count": 19,
   "metadata": {},
   "outputs": [],
   "source": [
    "sample=data[:10]"
   ]
  },
  {
   "cell_type": "code",
   "execution_count": 24,
   "metadata": {},
   "outputs": [
    {
     "data": {
      "text/plain": [
       "[array([[1.800e+01, 8.000e+00, 3.070e+02, 1.300e+02, 3.504e+03, 1.200e+01,\n",
       "         7.000e+01, 1.000e+00],\n",
       "        [1.500e+01, 8.000e+00, 3.500e+02, 1.650e+02, 3.693e+03, 1.150e+01,\n",
       "         7.000e+01, 1.000e+00],\n",
       "        [1.800e+01, 8.000e+00, 3.180e+02, 1.500e+02, 3.436e+03, 1.100e+01,\n",
       "         7.000e+01, 1.000e+00],\n",
       "        [1.600e+01, 8.000e+00, 3.040e+02, 1.500e+02, 3.433e+03, 1.200e+01,\n",
       "         7.000e+01, 1.000e+00],\n",
       "        [1.700e+01, 8.000e+00, 3.020e+02, 1.400e+02, 3.449e+03, 1.050e+01,\n",
       "         7.000e+01, 1.000e+00],\n",
       "        [1.500e+01, 8.000e+00, 4.290e+02, 1.980e+02, 4.341e+03, 1.000e+01,\n",
       "         7.000e+01, 1.000e+00],\n",
       "        [1.400e+01, 8.000e+00, 4.540e+02, 2.200e+02, 4.354e+03, 9.000e+00,\n",
       "         7.000e+01, 1.000e+00],\n",
       "        [1.400e+01, 8.000e+00, 4.400e+02, 2.150e+02, 4.312e+03, 8.500e+00,\n",
       "         7.000e+01, 1.000e+00],\n",
       "        [1.400e+01, 8.000e+00, 4.550e+02, 2.250e+02, 4.425e+03, 1.000e+01,\n",
       "         7.000e+01, 1.000e+00],\n",
       "        [1.500e+01, 8.000e+00, 3.900e+02, 1.900e+02, 3.850e+03, 8.500e+00,\n",
       "         7.000e+01, 1.000e+00]]),\n",
       " array([], shape=(10, 0), dtype=float64),\n",
       " array([[1.800e+01, 8.000e+00, 3.070e+02, 1.300e+02, 3.504e+03, 1.200e+01,\n",
       "         7.000e+01, 1.000e+00],\n",
       "        [1.500e+01, 8.000e+00, 3.500e+02, 1.650e+02, 3.693e+03, 1.150e+01,\n",
       "         7.000e+01, 1.000e+00],\n",
       "        [1.800e+01, 8.000e+00, 3.180e+02, 1.500e+02, 3.436e+03, 1.100e+01,\n",
       "         7.000e+01, 1.000e+00],\n",
       "        [1.600e+01, 8.000e+00, 3.040e+02, 1.500e+02, 3.433e+03, 1.200e+01,\n",
       "         7.000e+01, 1.000e+00],\n",
       "        [1.700e+01, 8.000e+00, 3.020e+02, 1.400e+02, 3.449e+03, 1.050e+01,\n",
       "         7.000e+01, 1.000e+00],\n",
       "        [1.500e+01, 8.000e+00, 4.290e+02, 1.980e+02, 4.341e+03, 1.000e+01,\n",
       "         7.000e+01, 1.000e+00],\n",
       "        [1.400e+01, 8.000e+00, 4.540e+02, 2.200e+02, 4.354e+03, 9.000e+00,\n",
       "         7.000e+01, 1.000e+00],\n",
       "        [1.400e+01, 8.000e+00, 4.400e+02, 2.150e+02, 4.312e+03, 8.500e+00,\n",
       "         7.000e+01, 1.000e+00],\n",
       "        [1.400e+01, 8.000e+00, 4.550e+02, 2.250e+02, 4.425e+03, 1.000e+01,\n",
       "         7.000e+01, 1.000e+00],\n",
       "        [1.500e+01, 8.000e+00, 3.900e+02, 1.900e+02, 3.850e+03, 8.500e+00,\n",
       "         7.000e+01, 1.000e+00]])]"
      ]
     },
     "execution_count": 24,
     "metadata": {},
     "output_type": "execute_result"
    }
   ],
   "source": [
    "np.hsplit(sample,(10,0))"
   ]
  },
  {
   "cell_type": "code",
   "execution_count": 27,
   "metadata": {},
   "outputs": [
    {
     "data": {
      "text/plain": [
       "[array([[1.800e+01, 8.000e+00, 3.070e+02, 1.300e+02, 3.504e+03, 1.200e+01,\n",
       "         7.000e+01, 1.000e+00],\n",
       "        [1.500e+01, 8.000e+00, 3.500e+02, 1.650e+02, 3.693e+03, 1.150e+01,\n",
       "         7.000e+01, 1.000e+00],\n",
       "        [1.800e+01, 8.000e+00, 3.180e+02, 1.500e+02, 3.436e+03, 1.100e+01,\n",
       "         7.000e+01, 1.000e+00],\n",
       "        [1.600e+01, 8.000e+00, 3.040e+02, 1.500e+02, 3.433e+03, 1.200e+01,\n",
       "         7.000e+01, 1.000e+00],\n",
       "        [1.700e+01, 8.000e+00, 3.020e+02, 1.400e+02, 3.449e+03, 1.050e+01,\n",
       "         7.000e+01, 1.000e+00],\n",
       "        [1.500e+01, 8.000e+00, 4.290e+02, 1.980e+02, 4.341e+03, 1.000e+01,\n",
       "         7.000e+01, 1.000e+00],\n",
       "        [1.400e+01, 8.000e+00, 4.540e+02, 2.200e+02, 4.354e+03, 9.000e+00,\n",
       "         7.000e+01, 1.000e+00],\n",
       "        [1.400e+01, 8.000e+00, 4.400e+02, 2.150e+02, 4.312e+03, 8.500e+00,\n",
       "         7.000e+01, 1.000e+00]]),\n",
       " array([], shape=(0, 8), dtype=float64),\n",
       " array([[1.500e+01, 8.000e+00, 3.500e+02, 1.650e+02, 3.693e+03, 1.150e+01,\n",
       "         7.000e+01, 1.000e+00],\n",
       "        [1.800e+01, 8.000e+00, 3.180e+02, 1.500e+02, 3.436e+03, 1.100e+01,\n",
       "         7.000e+01, 1.000e+00],\n",
       "        [1.600e+01, 8.000e+00, 3.040e+02, 1.500e+02, 3.433e+03, 1.200e+01,\n",
       "         7.000e+01, 1.000e+00],\n",
       "        [1.700e+01, 8.000e+00, 3.020e+02, 1.400e+02, 3.449e+03, 1.050e+01,\n",
       "         7.000e+01, 1.000e+00],\n",
       "        [1.500e+01, 8.000e+00, 4.290e+02, 1.980e+02, 4.341e+03, 1.000e+01,\n",
       "         7.000e+01, 1.000e+00],\n",
       "        [1.400e+01, 8.000e+00, 4.540e+02, 2.200e+02, 4.354e+03, 9.000e+00,\n",
       "         7.000e+01, 1.000e+00],\n",
       "        [1.400e+01, 8.000e+00, 4.400e+02, 2.150e+02, 4.312e+03, 8.500e+00,\n",
       "         7.000e+01, 1.000e+00],\n",
       "        [1.400e+01, 8.000e+00, 4.550e+02, 2.250e+02, 4.425e+03, 1.000e+01,\n",
       "         7.000e+01, 1.000e+00],\n",
       "        [1.500e+01, 8.000e+00, 3.900e+02, 1.900e+02, 3.850e+03, 8.500e+00,\n",
       "         7.000e+01, 1.000e+00]])]"
      ]
     },
     "execution_count": 27,
     "metadata": {},
     "output_type": "execute_result"
    }
   ],
   "source": [
    "np.vsplit(sample,(8,1))"
   ]
  },
  {
   "cell_type": "code",
   "execution_count": null,
   "metadata": {},
   "outputs": [],
   "source": []
  }
 ],
 "metadata": {
  "kernelspec": {
   "display_name": "Python 3 (ipykernel)",
   "language": "python",
   "name": "python3"
  },
  "language_info": {
   "codemirror_mode": {
    "name": "ipython",
    "version": 3
   },
   "file_extension": ".py",
   "mimetype": "text/x-python",
   "name": "python",
   "nbconvert_exporter": "python",
   "pygments_lexer": "ipython3",
   "version": "3.10.8"
  }
 },
 "nbformat": 4,
 "nbformat_minor": 4
}
